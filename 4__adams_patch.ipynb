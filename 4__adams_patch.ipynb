{
 "cells": [
  {
   "cell_type": "markdown",
   "metadata": {},
   "source": [
    "# Adam's Patch (An Urban Gardening Problem)\n",
    "\n",
    "<img src=\"images/urban_gardening.jpg\" alt=\"https://fitt.co/pittsburgh/wp-content/uploads/sites/2/2015/06/urban-gardening-pittsburgh-.jpg\" width=\"500\">\n"
   ]
  },
  {
   "cell_type": "markdown",
   "metadata": {},
   "source": [
    "## Problem Description\n",
    "\n",
    "<img src=\"images/adams_patch.png\" width=\"400\">\n",
    "\n",
    "**Story:**\n",
    "- Adam has an equal share of an urban garden. How large is his patch if all patches are meant to be of the same size and separated by a small foot path?\n",
    "\n",
    "**Goal:**\n",
    "- Cut/segmentize a given region into vertical slices (A1, A2, A3, A4) where each resulting patch covers the same area and is separated by a strip of constant width.\n",
    "\n",
    "**Input:**\n",
    "- `region`... polygonal or otherwise specified region\n",
    "- `n_patches`... number of patches\n",
    "- `width_separator`... width of separation strips\n",
    "\n",
    "**Output:**\n",
    "- `locations`... x-coordinates of separating stripes (x1, x2, x3)\n",
    "\n",
    "---\n",
    "\n",
    "*The specification is as is. If you see any missing aspects, fill the gaps. Make \"reasonable\" assumptions about the data e.g. that the region is [convex](https://en.wikipedia.org/wiki/Convex_set) or otherwise well-behaved.*\n"
   ]
  },
  {
   "cell_type": "markdown",
   "metadata": {},
   "source": [
    "## Tasks\n",
    "\n",
    "Objectives:\n",
    "- We will try to not get carried away be immediately starting to code.\n",
    "- We will try to lay out our ideas first and think of solutions/tests to the problem or aspects of it.\n",
    "- Coding comes last.\n",
    "\n",
    "---\n",
    "\n",
    "*You do not have to solve all tasks. Pick the ones you find most interesting!*\n",
    "\n",
    "*The problem is not entirely trivial; do not let yourself be distracted by the algorthmic part of the problem. You can go pretty far even without solving the actual problem.*\n",
    "\n",
    "*We will not have the time to finish it. ;)*"
   ]
  },
  {
   "cell_type": "markdown",
   "metadata": {},
   "source": [
    "### Task 1 (Understand the problem)\n",
    "\n",
    "- Make a sketch.\n",
    "\n",
    "- Sketch a solution.\n"
   ]
  },
  {
   "cell_type": "markdown",
   "metadata": {},
   "source": [
    "### Task 2 (Specify input and output)\n",
    "\n",
    "- What could the input look like?\n",
    "\n",
    "- How could the output look like?\n",
    "\n",
    "- Specify data types; are there any implicit assumptions? List them."
   ]
  },
  {
   "cell_type": "markdown",
   "metadata": {},
   "source": [
    "### Task 3 (Test cases)\n",
    "\n",
    "- Based on your API, come up with at least two test cases (and corresponding solutions)."
   ]
  },
  {
   "cell_type": "markdown",
   "metadata": {},
   "source": [
    "### Task 4 (Identify aspects that do not depend on the solution algorithm)\n",
    "\n",
    "- What kind of functionality is required or would be nice to have?\n",
    "\n",
    "- How would you internally represent/model your problem?\n",
    "\n",
    "\n",
    "---\n",
    "\n",
    "*If you are not sure how to solve the problem, you can think of the solution algorithm as a black box. Nevertheless you can specify/implement quite a lot.*"
   ]
  },
  {
   "cell_type": "markdown",
   "metadata": {},
   "source": [
    "### Task 5 (Solve the problem)\n",
    "\n",
    "- Sketch the algorith that actually solves the segmention task."
   ]
  },
  {
   "cell_type": "markdown",
   "metadata": {},
   "source": [
    "# Solution\n",
    "\n",
    "*discussion*"
   ]
  },
  {
   "cell_type": "code",
   "execution_count": null,
   "metadata": {},
   "outputs": [],
   "source": []
  }
 ],
 "metadata": {
  "kernelspec": {
   "display_name": "Python 3",
   "language": "python",
   "name": "python3"
  },
  "language_info": {
   "codemirror_mode": {
    "name": "ipython",
    "version": 3
   },
   "file_extension": ".py",
   "mimetype": "text/x-python",
   "name": "python",
   "nbconvert_exporter": "python",
   "pygments_lexer": "ipython3",
   "version": "3.6.4"
  }
 },
 "nbformat": 4,
 "nbformat_minor": 2
}
