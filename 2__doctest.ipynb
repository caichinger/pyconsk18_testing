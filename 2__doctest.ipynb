{
 "cells": [
  {
   "cell_type": "markdown",
   "metadata": {
    "slideshow": {
     "slide_type": "slide"
    }
   },
   "source": [
    "# 2. Document your Tests / Test your Documentation"
   ]
  },
  {
   "cell_type": "markdown",
   "metadata": {
    "slideshow": {
     "slide_type": "slide"
    }
   },
   "source": [
    "## doctest\n",
    "\n",
    "> Test interactive Python examples\n",
    "\n",
    "> The [doctest](https://docs.python.org/3/library/doctest.html) module searches for pieces of text that look like interactive Python sessions, and then executes those sessions to verify that they work exactly as shown. \n"
   ]
  },
  {
   "cell_type": "markdown",
   "metadata": {
    "slideshow": {
     "slide_type": "subslide"
    }
   },
   "source": [
    "## doctest\n",
    "\n",
    "\n",
    "- Copy-paste interactive example to obtain a test.\n",
    "\n",
    "- Serves both documentation and testing.\n",
    "\n",
    "- Very little API to learn.\n",
    "\n",
    "- Convenient solution for simple tests.\n",
    "\n",
    "- Does not hurt to delete it."
   ]
  },
  {
   "cell_type": "markdown",
   "metadata": {
    "slideshow": {
     "slide_type": "slide"
    }
   },
   "source": [
    "### Example"
   ]
  },
  {
   "cell_type": "code",
   "execution_count": 1,
   "metadata": {
    "slideshow": {
     "slide_type": "fragment"
    }
   },
   "outputs": [],
   "source": [
    "# implement sophisticated multiplication procedure\n",
    "a = 1  # prepare the data"
   ]
  },
  {
   "cell_type": "code",
   "execution_count": 2,
   "metadata": {
    "slideshow": {
     "slide_type": "fragment"
    }
   },
   "outputs": [],
   "source": [
    "b = 2  # and even more data"
   ]
  },
  {
   "cell_type": "code",
   "execution_count": 3,
   "metadata": {
    "slideshow": {
     "slide_type": "fragment"
    }
   },
   "outputs": [],
   "source": [
    "# *thinking* \"a times b\""
   ]
  },
  {
   "cell_type": "code",
   "execution_count": 4,
   "metadata": {
    "slideshow": {
     "slide_type": "fragment"
    }
   },
   "outputs": [
    {
     "data": {
      "text/plain": [
       "2"
      ]
     },
     "execution_count": 4,
     "metadata": {},
     "output_type": "execute_result"
    }
   ],
   "source": [
    "a * b  # should be 2, right?"
   ]
  },
  {
   "cell_type": "code",
   "execution_count": 5,
   "metadata": {
    "slideshow": {
     "slide_type": "fragment"
    }
   },
   "outputs": [],
   "source": [
    "# looks good, let's turn this into a function\n",
    "def multiply(a, b):\n",
    "    return a * b"
   ]
  },
  {
   "cell_type": "code",
   "execution_count": 6,
   "metadata": {
    "slideshow": {
     "slide_type": "fragment"
    }
   },
   "outputs": [
    {
     "data": {
      "text/plain": [
       "2"
      ]
     },
     "execution_count": 6,
     "metadata": {},
     "output_type": "execute_result"
    }
   ],
   "source": [
    "multiply(a, b)"
   ]
  },
  {
   "cell_type": "code",
   "execution_count": 7,
   "metadata": {
    "slideshow": {
     "slide_type": "subslide"
    }
   },
   "outputs": [],
   "source": [
    "# add our interactive example to the docstring\n",
    "# voilà - our first test!\n",
    "def multiply(a, b):\n",
    "    \"\"\"\n",
    "    >>> multiply(1, 2)\n",
    "    2    \n",
    "    \"\"\"   \n",
    "    return a * b"
   ]
  },
  {
   "cell_type": "code",
   "execution_count": 8,
   "metadata": {
    "slideshow": {
     "slide_type": "fragment"
    }
   },
   "outputs": [
    {
     "data": {
      "text/plain": [
       "2"
      ]
     },
     "execution_count": 8,
     "metadata": {},
     "output_type": "execute_result"
    }
   ],
   "source": [
    "# note that this works\n",
    ">>> multiply(1, 2)"
   ]
  },
  {
   "cell_type": "code",
   "execution_count": 9,
   "metadata": {
    "slideshow": {
     "slide_type": "fragment"
    }
   },
   "outputs": [
    {
     "data": {
      "text/plain": [
       "[3, 3, 3]"
      ]
     },
     "execution_count": 9,
     "metadata": {},
     "output_type": "execute_result"
    }
   ],
   "source": [
    ">>> multiply([3], 3)"
   ]
  },
  {
   "cell_type": "code",
   "execution_count": 10,
   "metadata": {
    "slideshow": {
     "slide_type": "subslide"
    }
   },
   "outputs": [
    {
     "name": "stdout",
     "output_type": "stream",
     "text": [
      "Trying:\n",
      "    multiply(1, 2)\n",
      "Expecting:\n",
      "    2\n",
      "ok\n",
      "Trying:\n",
      "    multiply([3], 3)\n",
      "Expecting:\n",
      "    [3, 3, 4]\n",
      "**********************************************************************\n",
      "File \"__main__\", line 5, in __main__.multiply\n",
      "Failed example:\n",
      "    multiply([3], 3)\n",
      "Expected:\n",
      "    [3, 3, 4]\n",
      "Got:\n",
      "    [3, 3, 3]\n",
      "1 items had no tests:\n",
      "    __main__\n",
      "**********************************************************************\n",
      "1 items had failures:\n",
      "   1 of   2 in __main__.multiply\n",
      "2 tests in 2 items.\n",
      "1 passed and 1 failed.\n",
      "***Test Failed*** 1 failures.\n"
     ]
    },
    {
     "data": {
      "text/plain": [
       "TestResults(failed=1, attempted=2)"
      ]
     },
     "execution_count": 10,
     "metadata": {},
     "output_type": "execute_result"
    }
   ],
   "source": [
    "def multiply(a, b):\n",
    "    \"\"\"\n",
    "    >>> multiply(1, 2)\n",
    "    2\n",
    "    >>> multiply([3], 3)\n",
    "    [3, 3, 4]\n",
    "    \"\"\"\n",
    "    return a * b\n",
    "\n",
    "\n",
    "import doctest\n",
    "doctest.testmod(verbose=True)"
   ]
  },
  {
   "cell_type": "code",
   "execution_count": 11,
   "metadata": {
    "slideshow": {
     "slide_type": "subslide"
    }
   },
   "outputs": [
    {
     "name": "stdout",
     "output_type": "stream",
     "text": [
      "Trying:\n",
      "    multiply(1, 2)\n",
      "Expecting:\n",
      "    2\n",
      "ok\n",
      "Trying:\n",
      "    multiply([3], 3)\n",
      "Expecting:\n",
      "    [3, 3, 4]\n",
      "**********************************************************************\n",
      "File \"__main__\", line 8, in __main__\n",
      "Failed example:\n",
      "    multiply([3], 3)\n",
      "Expected:\n",
      "    [3, 3, 4]\n",
      "Got:\n",
      "    [3, 3, 3]\n",
      "Trying:\n",
      "    multiply(6, 7)\n",
      "Expecting:\n",
      "    42\n",
      "ok\n",
      "1 items passed all tests:\n",
      "   1 tests in __main__.multiply\n",
      "**********************************************************************\n",
      "1 items had failures:\n",
      "   1 of   2 in __main__\n",
      "3 tests in 2 items.\n",
      "2 passed and 1 failed.\n",
      "***Test Failed*** 1 failures.\n"
     ]
    },
    {
     "data": {
      "text/plain": [
       "TestResults(failed=1, attempted=3)"
      ]
     },
     "execution_count": 11,
     "metadata": {},
     "output_type": "execute_result"
    }
   ],
   "source": [
    "\"\"\"\n",
    "Module documentation.\n",
    "This module provides the powerful `multiply` function.\n",
    "\n",
    ">>> multiply(1, 2)\n",
    "2\n",
    ">>> multiply([3], 3)\n",
    "[3, 3, 4]\n",
    "\"\"\"\n",
    "\n",
    "def multiply(a, b):\n",
    "    \"\"\"\n",
    "    >>> multiply(6, 7)\n",
    "    42\n",
    "    \"\"\"\n",
    "    return a * b\n",
    "\n",
    "\n",
    "import doctest\n",
    "doctest.testmod(verbose=True)"
   ]
  },
  {
   "cell_type": "markdown",
   "metadata": {
    "slideshow": {
     "slide_type": "subslide"
    }
   },
   "source": [
    "## Good to Know\n",
    "\n",
    "- **Which Docstrings?**\n",
    "  - All docstrings in the module (module, classes, functions)\n",
    "\n",
    "\n",
    "- **How are Docstrings recognized?**\n",
    "  - input: everything after `>>>` or `...` (multiline input)\n",
    "  - output: (if any) immediately after input\n",
    "  \n",
    "\n",
    "- **Execution Context?**\n",
    "  - Shallow copy of module globals and names defined earlier in the docstring (no access to names in other docstrings).\n",
    "\n",
    "\n",
    "- **Comparison?**\n",
    "  - Literal"
   ]
  },
  {
   "cell_type": "markdown",
   "metadata": {
    "slideshow": {
     "slide_type": "subslide"
    }
   },
   "source": [
    "## Good to Do\n",
    "\n",
    "- Dealing with blanklines in output:\n",
    "```python\n",
    ">>> print('1st line', '\\n', '2nd line')\n",
    "1st line\n",
    "<BLANKLINE>\n",
    "2nd line\n",
    "```\n",
    "\n",
    "- Dealing with whitespaces\n",
    "```python\n",
    ">>> [1, 2]  # doctest: +NORMALIZE_WHITESPACE\n",
    "[1,     2]\n",
    "```\n",
    "\n",
    "- Dealing with non-reproduceable output\n",
    "```python\n",
    ">>> class C: pass\n",
    ">>> C()  # doctest: +ELLIPSIS\n",
    "<__main__.C instance at 0x...>\n",
    "```\n",
    "\n",
    "- Dealing with tracebacks\n",
    "```python\n",
    ">>> raise NotImplementedError('¯\\_(ツ)_/¯')\n",
    "Traceback (most recent call last)\n",
    "...\n",
    "NotImplementedError: ¯\\_(ツ)_/¯\n",
    "```\n",
    "\n"
   ]
  },
  {
   "cell_type": "markdown",
   "metadata": {
    "slideshow": {
     "slide_type": "slide"
    }
   },
   "source": [
    "# Exercises\n",
    "\n",
    "Implement doctests for below functions.\n",
    "\n",
    "---\n",
    "\n",
    "*You do not have to implement all requirements. Pick the ones you find most interesting!*"
   ]
  },
  {
   "cell_type": "code",
   "execution_count": 12,
   "metadata": {
    "slideshow": {
     "slide_type": "subslide"
    }
   },
   "outputs": [
    {
     "name": "stdout",
     "output_type": "stream",
     "text": [
      "Writing doctest/exercises.py\n"
     ]
    }
   ],
   "source": [
    "%%writefile doctest/exercises.py\n",
    "\"\"\"\n",
    "Doctest Exercises.\n",
    "\"\"\"\n",
    "\n",
    "def fancy_plot():\n",
    "    fig, ax = plt.subplots()\n",
    "    ax.plot([1, 2])\n",
    "    return ax\n",
    "\n",
    "def possible_unordered_return_value():\n",
    "    return {'b': 2, 'a': 1}\n",
    "\n",
    "def many_digit_number():\n",
    "    return 1/42\n",
    "\n",
    "def some_exception():\n",
    "    raise ZeroDivisionError('O.o')\n",
    "\n",
    "def multiply(a, b):\n",
    "    \"\"\"\n",
    "    Computes a * b\n",
    "    \n",
    "    >>> multiply(['A', 'B'], 2)\n",
    "    ['A', 'B',\n",
    "     'A', 'B']    \n",
    "    \"\"\"\n",
    "    return a * b\n"
   ]
  },
  {
   "cell_type": "code",
   "execution_count": 13,
   "metadata": {},
   "outputs": [
    {
     "name": "stdout",
     "output_type": "stream",
     "text": [
      "Trying:\r\n",
      "    multiply(['A', 'B'], 2)\r\n",
      "Expecting:\r\n",
      "    ['A', 'B',\r\n",
      "     'A', 'B']    \r\n",
      "**********************************************************************\r\n",
      "File \"doctest/exercises.py\", line 23, in exercises.multiply\r\n",
      "Failed example:\r\n",
      "    multiply(['A', 'B'], 2)\r\n",
      "Expected:\r\n",
      "    ['A', 'B',\r\n",
      "     'A', 'B']    \r\n",
      "Got:\r\n",
      "    ['A', 'B', 'A', 'B']\r\n",
      "5 items had no tests:\r\n",
      "    exercises\r\n",
      "    exercises.fancy_plot\r\n",
      "    exercises.many_digit_number\r\n",
      "    exercises.possible_unordered_return_value\r\n",
      "    exercises.some_exception\r\n",
      "**********************************************************************\r\n",
      "1 items had failures:\r\n",
      "   1 of   1 in exercises.multiply\r\n",
      "1 tests in 6 items.\r\n",
      "0 passed and 1 failed.\r\n",
      "***Test Failed*** 1 failures.\r\n"
     ]
    }
   ],
   "source": [
    "!python -m doctest doctest/exercises.py -v"
   ]
  },
  {
   "cell_type": "markdown",
   "metadata": {
    "slideshow": {
     "slide_type": "slide"
    }
   },
   "source": [
    "# Solutions"
   ]
  },
  {
   "cell_type": "code",
   "execution_count": 14,
   "metadata": {
    "slideshow": {
     "slide_type": "subslide"
    }
   },
   "outputs": [
    {
     "name": "stdout",
     "output_type": "stream",
     "text": [
      "Writing doctest/solutions.py\n"
     ]
    }
   ],
   "source": [
    "%%writefile doctest/solutions.py\n",
    "\"\"\"\n",
    "Doctest Exercises.\n",
    "\"\"\"\n",
    "import matplotlib.pyplot as plt\n",
    "import numpy as np\n",
    "\n",
    "\n",
    "def fancy_plot():\n",
    "    \"\"\"\n",
    "    >>> fancy_plot()  # doctest: +ELLIPSIS\n",
    "    <matplotlib.axes._subplots.AxesSubplot ... at ...>\n",
    "    \"\"\"\n",
    "    fig, ax = plt.subplots()\n",
    "    ax.plot([1, 2])\n",
    "    return ax\n",
    "\n",
    "def unordered_return_value():\n",
    "    \"\"\"\n",
    "    >>> unordered_return_value() == {'a': 1, 'b': 2}\n",
    "    True\n",
    "    >>> sorted(unordered_return_value().items())\n",
    "    [('a', 1), ('b', 2)]\n",
    "    \"\"\"\n",
    "    return {'b': 2, 'a': 1}\n",
    "\n",
    "def many_digit_number():\n",
    "    \"\"\"\n",
    "    >>> print('{:.4f}'.format(many_digit_number()))\n",
    "    0.0238\n",
    "    >>> many_digit_number()  # doctest: +ELLIPSIS\n",
    "    0.02380...\n",
    "    \"\"\"\n",
    "    return 1/42\n",
    "\n",
    "def some_exception():\n",
    "    \"\"\"\n",
    "    >>> some_exception()\n",
    "    Traceback (most recent call last):\n",
    "    ...\n",
    "    ZeroDivisionError: O.o\n",
    "    \"\"\"\n",
    "    raise ZeroDivisionError('O.o')\n",
    "\n",
    "def multiply(a, b):\n",
    "    \"\"\"\n",
    "    Computes a * b\n",
    "    \n",
    "    >>> multiply(['A', 'B'], 2)  # doctest: +NORMALIZE_WHITESPACE\n",
    "    ['A', 'B',\n",
    "     'A', 'B']    \n",
    "    >>> multiply(['A', 'B'], 2)\n",
    "    ['A', 'B', 'A', 'B']\n",
    "    \"\"\"\n",
    "    return a * b\n",
    "\n",
    "\n",
    "if __name__ == '__main__':\n",
    "    import doctest\n",
    "    doctest.testmod()  # you can execute the tests directly in the cell as well without exporting to a file"
   ]
  },
  {
   "cell_type": "code",
   "execution_count": 15,
   "metadata": {},
   "outputs": [
    {
     "name": "stdout",
     "output_type": "stream",
     "text": [
      "**********************************************************************\n",
      "File \"__main__\", line 8, in __main__\n",
      "Failed example:\n",
      "    multiply([3], 3)\n",
      "Expected:\n",
      "    [3, 3, 4]\n",
      "Got:\n",
      "    [3, 3, 3]\n",
      "**********************************************************************\n",
      "File \"__main__\", line 3, in __main__.fun\n",
      "Failed example:\n",
      "    fun()\n",
      "Expected:\n",
      "    'ab...'\n",
      "Got:\n",
      "    'abc'\n",
      "**********************************************************************\n",
      "2 items had failures:\n",
      "   1 of   2 in __main__\n",
      "   1 of   1 in __main__.fun\n",
      "***Test Failed*** 2 failures.\n"
     ]
    },
    {
     "data": {
      "text/plain": [
       "TestResults(failed=2, attempted=4)"
      ]
     },
     "execution_count": 15,
     "metadata": {},
     "output_type": "execute_result"
    }
   ],
   "source": [
    "def fun():\n",
    "    \"\"\"\n",
    "    >>> fun()\n",
    "    'ab...'\n",
    "    \"\"\"\n",
    "    return 'abc'\n",
    "\n",
    "import doctest\n",
    "doctest.testmod()"
   ]
  },
  {
   "cell_type": "code",
   "execution_count": 16,
   "metadata": {},
   "outputs": [
    {
     "name": "stdout",
     "output_type": "stream",
     "text": [
      "Trying:\r\n",
      "    fancy_plot()  # doctest: +ELLIPSIS\r\n",
      "Expecting:\r\n",
      "    <matplotlib.axes._subplots.AxesSubplot ... at ...>\r\n",
      "ok\r\n",
      "Trying:\r\n",
      "    print('{:.4f}'.format(many_digit_number()))\r\n",
      "Expecting:\r\n",
      "    0.0238\r\n",
      "ok\r\n",
      "Trying:\r\n",
      "    many_digit_number()  # doctest: +ELLIPSIS\r\n",
      "Expecting:\r\n",
      "    0.02380...\r\n",
      "ok\r\n",
      "Trying:\r\n",
      "    multiply(['A', 'B'], 2)  # doctest: +NORMALIZE_WHITESPACE\r\n",
      "Expecting:\r\n",
      "    ['A', 'B',\r\n",
      "     'A', 'B']    \r\n",
      "ok\r\n",
      "Trying:\r\n",
      "    multiply(['A', 'B'], 2)\r\n",
      "Expecting:\r\n",
      "    ['A', 'B', 'A', 'B']\r\n",
      "ok\r\n",
      "Trying:\r\n",
      "    some_exception()\r\n",
      "Expecting:\r\n",
      "    Traceback (most recent call last):\r\n",
      "    ...\r\n",
      "    ZeroDivisionError: O.o\r\n",
      "ok\r\n",
      "Trying:\r\n",
      "    unordered_return_value() == {'a': 1, 'b': 2}\r\n",
      "Expecting:\r\n",
      "    True\r\n",
      "ok\r\n",
      "Trying:\r\n",
      "    sorted(unordered_return_value().items())\r\n",
      "Expecting:\r\n",
      "    [('a', 1), ('b', 2)]\r\n",
      "ok\r\n",
      "1 items had no tests:\r\n",
      "    __main__\r\n",
      "5 items passed all tests:\r\n",
      "   1 tests in __main__.fancy_plot\r\n",
      "   2 tests in __main__.many_digit_number\r\n",
      "   2 tests in __main__.multiply\r\n",
      "   1 tests in __main__.some_exception\r\n",
      "   2 tests in __main__.unordered_return_value\r\n",
      "8 tests in 6 items.\r\n",
      "8 passed and 0 failed.\r\n",
      "Test passed.\r\n"
     ]
    }
   ],
   "source": [
    "!python doctest/solutions.py -v"
   ]
  },
  {
   "cell_type": "markdown",
   "metadata": {},
   "source": [
    "# Summary\n",
    "\n",
    "- Cheap and useful for both documentation and testing.\n",
    "\n",
    "\n",
    "- Aligns well with interactive development.\n",
    "\n",
    "\n",
    "- Several testrunners and documentation frameworks can execute doctests.\n",
    "\n",
    "\n",
    "- Does not target complex tests/tasks (no fixture management)."
   ]
  },
  {
   "cell_type": "markdown",
   "metadata": {
    "collapsed": true
   },
   "source": [
    "# Questions?"
   ]
  },
  {
   "cell_type": "code",
   "execution_count": null,
   "metadata": {},
   "outputs": [],
   "source": []
  }
 ],
 "metadata": {
  "celltoolbar": "Slideshow",
  "kernelspec": {
   "display_name": "Python 3",
   "language": "python",
   "name": "python3"
  },
  "language_info": {
   "codemirror_mode": {
    "name": "ipython",
    "version": 3
   },
   "file_extension": ".py",
   "mimetype": "text/x-python",
   "name": "python",
   "nbconvert_exporter": "python",
   "pygments_lexer": "ipython3",
   "version": "3.6.4"
  }
 },
 "nbformat": 4,
 "nbformat_minor": 2
}
